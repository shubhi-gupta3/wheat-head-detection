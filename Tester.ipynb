{
  "nbformat": 4,
  "nbformat_minor": 0,
  "metadata": {
    "colab": {
      "name": "Tester.ipynb",
      "provenance": [],
      "authorship_tag": "ABX9TyOGEGNa2QU5jOWzmtpBpUg+",
      "include_colab_link": true
    },
    "kernelspec": {
      "name": "python3",
      "display_name": "Python 3"
    },
    "accelerator": "GPU"
  },
  "cells": [
    {
      "cell_type": "markdown",
      "metadata": {
        "id": "view-in-github",
        "colab_type": "text"
      },
      "source": [
        "<a href=\"https://colab.research.google.com/github/shubhi3/wheat-head-detection/blob/master/Tester.ipynb\" target=\"_parent\"><img src=\"https://colab.research.google.com/assets/colab-badge.svg\" alt=\"Open In Colab\"/></a>"
      ]
    },
    {
      "cell_type": "code",
      "metadata": {
        "id": "Y6-Z4p94TZLP",
        "outputId": "4b5baa49-9f94-4092-b54f-3b6ba1aa2c4d",
        "colab": {
          "base_uri": "https://localhost:8080/",
          "height": 34
        }
      },
      "source": [
        "from google.colab import files\n",
        "from google.colab import drive\n",
        "drive.mount('/content/drive')"
      ],
      "execution_count": null,
      "outputs": [
        {
          "output_type": "stream",
          "text": [
            "Mounted at /content/drive\n"
          ],
          "name": "stdout"
        }
      ]
    },
    {
      "cell_type": "code",
      "metadata": {
        "id": "eSA2gMTGTjoB",
        "outputId": "cfec36fc-782e-4bb2-90ae-4b41f10ea8b2",
        "colab": {
          "base_uri": "https://localhost:8080/",
          "height": 34
        }
      },
      "source": [
        "%cd /content/drive/My Drive/Capstone project/global-wheat-detection/yolov5"
      ],
      "execution_count": null,
      "outputs": [
        {
          "output_type": "stream",
          "text": [
            "/content/drive/My Drive/Capstone project/global-wheat-detection/yolov5\n"
          ],
          "name": "stdout"
        }
      ]
    },
    {
      "cell_type": "code",
      "metadata": {
        "id": "bxG4xi-uTtBC",
        "outputId": "9205d223-e702-4453-ecaa-2dacdbc5feed",
        "colab": {
          "base_uri": "https://localhost:8080/",
          "height": 1000
        }
      },
      "source": [
        "!python detect.py --source Test_wrong --weights best.pt"
      ],
      "execution_count": null,
      "outputs": [
        {
          "output_type": "stream",
          "text": [
            "Namespace(agnostic_nms=False, augment=False, classes=None, conf_thres=0.4, device='', img_size=640, iou_thres=0.5, output='inference/output', save_txt=False, source='Test_wrong', update=False, view_img=False, weights=['best.pt'])\n",
            "Using CUDA device0 _CudaDeviceProperties(name='Tesla K80', total_memory=11441MB)\n",
            "\n",
            "Fusing layers... \n",
            "Model Summary: 140 layers, 7.24652e+06 parameters, 6.61683e+06 gradients\n",
            "image 1/63 /content/drive/My Drive/Capstone project/global-wheat-detection/yolov5/Test_wrong/img297.jpg: 512x640 3 wheats, Done. (0.061s)\n",
            "image 2/63 /content/drive/My Drive/Capstone project/global-wheat-detection/yolov5/Test_wrong/img298.jpg: 640x512 Done. (0.033s)\n",
            "image 3/63 /content/drive/My Drive/Capstone project/global-wheat-detection/yolov5/Test_wrong/img299.jpg: 640x512 5 wheats, Done. (0.032s)\n",
            "image 4/63 /content/drive/My Drive/Capstone project/global-wheat-detection/yolov5/Test_wrong/img304.jpg: 512x640 1 wheats, Done. (0.034s)\n",
            "image 5/63 /content/drive/My Drive/Capstone project/global-wheat-detection/yolov5/Test_wrong/img305.jpg: 640x512 1 wheats, Done. (0.033s)\n",
            "image 6/63 /content/drive/My Drive/Capstone project/global-wheat-detection/yolov5/Test_wrong/img306.jpg: 512x640 1 wheats, Done. (0.035s)\n",
            "image 7/63 /content/drive/My Drive/Capstone project/global-wheat-detection/yolov5/Test_wrong/img307.jpg: 512x640 Done. (0.031s)\n",
            "image 8/63 /content/drive/My Drive/Capstone project/global-wheat-detection/yolov5/Test_wrong/img308.jpg: 512x640 Done. (0.032s)\n",
            "image 9/63 /content/drive/My Drive/Capstone project/global-wheat-detection/yolov5/Test_wrong/img309.jpg: 512x640 Done. (0.031s)\n",
            "image 10/63 /content/drive/My Drive/Capstone project/global-wheat-detection/yolov5/Test_wrong/img310.jpg: 640x512 2 wheats, Done. (0.033s)\n",
            "image 11/63 /content/drive/My Drive/Capstone project/global-wheat-detection/yolov5/Test_wrong/img311.jpg: 512x640 1 wheats, Done. (0.034s)\n",
            "image 12/63 /content/drive/My Drive/Capstone project/global-wheat-detection/yolov5/Test_wrong/img312.jpg: 640x512 1 wheats, Done. (0.032s)\n",
            "image 13/63 /content/drive/My Drive/Capstone project/global-wheat-detection/yolov5/Test_wrong/img313.jpg: 512x640 Done. (0.032s)\n",
            "image 14/63 /content/drive/My Drive/Capstone project/global-wheat-detection/yolov5/Test_wrong/img314.jpg: 512x640 Done. (0.031s)\n",
            "image 15/63 /content/drive/My Drive/Capstone project/global-wheat-detection/yolov5/Test_wrong/img317.jpg: 640x512 1 wheats, Done. (0.033s)\n",
            "image 16/63 /content/drive/My Drive/Capstone project/global-wheat-detection/yolov5/Test_wrong/img318.jpg: 640x512 3 wheats, Done. (0.032s)\n",
            "image 17/63 /content/drive/My Drive/Capstone project/global-wheat-detection/yolov5/Test_wrong/img319.jpg: 512x640 1 wheats, Done. (0.034s)\n",
            "image 18/63 /content/drive/My Drive/Capstone project/global-wheat-detection/yolov5/Test_wrong/img320.jpg: 512x640 1 wheats, Done. (0.033s)\n",
            "image 19/63 /content/drive/My Drive/Capstone project/global-wheat-detection/yolov5/Test_wrong/img321.jpg: 512x640 1 wheats, Done. (0.033s)\n",
            "image 20/63 /content/drive/My Drive/Capstone project/global-wheat-detection/yolov5/Test_wrong/img322.jpg: 512x640 Done. (0.031s)\n",
            "image 21/63 /content/drive/My Drive/Capstone project/global-wheat-detection/yolov5/Test_wrong/img323.jpg: 512x640 2 wheats, Done. (0.033s)\n",
            "image 22/63 /content/drive/My Drive/Capstone project/global-wheat-detection/yolov5/Test_wrong/img324.jpg: 512x640 2 wheats, Done. (0.033s)\n",
            "image 23/63 /content/drive/My Drive/Capstone project/global-wheat-detection/yolov5/Test_wrong/img325.jpg: 512x640 Done. (0.031s)\n",
            "image 24/63 /content/drive/My Drive/Capstone project/global-wheat-detection/yolov5/Test_wrong/img326.jpg: 512x640 Done. (0.031s)\n",
            "image 25/63 /content/drive/My Drive/Capstone project/global-wheat-detection/yolov5/Test_wrong/img327.jpg: 512x640 Done. (0.031s)\n",
            "image 26/63 /content/drive/My Drive/Capstone project/global-wheat-detection/yolov5/Test_wrong/img328.jpg: 512x640 1 wheats, Done. (0.033s)\n",
            "image 27/63 /content/drive/My Drive/Capstone project/global-wheat-detection/yolov5/Test_wrong/img329.jpg: 512x640 1 wheats, Done. (0.033s)\n",
            "image 28/63 /content/drive/My Drive/Capstone project/global-wheat-detection/yolov5/Test_wrong/img330.jpg: 512x640 Done. (0.031s)\n",
            "image 29/63 /content/drive/My Drive/Capstone project/global-wheat-detection/yolov5/Test_wrong/img331.jpg: 512x640 Done. (0.031s)\n",
            "image 30/63 /content/drive/My Drive/Capstone project/global-wheat-detection/yolov5/Test_wrong/img332.jpg: 512x640 Done. (0.032s)\n",
            "image 31/63 /content/drive/My Drive/Capstone project/global-wheat-detection/yolov5/Test_wrong/img631.jpg: 512x640 1 wheats, Done. (0.032s)\n",
            "image 32/63 /content/drive/My Drive/Capstone project/global-wheat-detection/yolov5/Test_wrong/img632.jpg: 640x512 Done. (0.034s)\n",
            "image 33/63 /content/drive/My Drive/Capstone project/global-wheat-detection/yolov5/Test_wrong/img633.jpg: 640x512 4 wheats, Done. (0.032s)\n",
            "image 34/63 /content/drive/My Drive/Capstone project/global-wheat-detection/yolov5/Test_wrong/img634.jpg: 512x640 1 wheats, Done. (0.035s)\n",
            "image 35/63 /content/drive/My Drive/Capstone project/global-wheat-detection/yolov5/Test_wrong/img635.jpg: 512x640 Done. (0.031s)\n",
            "image 36/63 /content/drive/My Drive/Capstone project/global-wheat-detection/yolov5/Test_wrong/img636.jpg: 512x640 1 wheats, Done. (0.033s)\n",
            "image 37/63 /content/drive/My Drive/Capstone project/global-wheat-detection/yolov5/Test_wrong/img637.jpg: 512x640 Done. (0.031s)\n",
            "image 38/63 /content/drive/My Drive/Capstone project/global-wheat-detection/yolov5/Test_wrong/img638.jpg: 512x640 1 wheats, Done. (0.033s)\n",
            "image 39/63 /content/drive/My Drive/Capstone project/global-wheat-detection/yolov5/Test_wrong/img639.jpg: 640x512 1 wheats, Done. (0.034s)\n",
            "image 40/63 /content/drive/My Drive/Capstone project/global-wheat-detection/yolov5/Test_wrong/img640.jpg: 512x640 2 wheats, Done. (0.033s)\n",
            "image 41/63 /content/drive/My Drive/Capstone project/global-wheat-detection/yolov5/Test_wrong/img641.jpg: 512x640 Done. (0.031s)\n",
            "image 42/63 /content/drive/My Drive/Capstone project/global-wheat-detection/yolov5/Test_wrong/img642.jpg: 512x640 Done. (0.031s)\n",
            "image 43/63 /content/drive/My Drive/Capstone project/global-wheat-detection/yolov5/Test_wrong/img643.jpg: 512x640 1 wheats, Done. (0.033s)\n",
            "image 44/63 /content/drive/My Drive/Capstone project/global-wheat-detection/yolov5/Test_wrong/img644.jpg: 640x512 6 wheats, Done. (0.033s)\n",
            "image 45/63 /content/drive/My Drive/Capstone project/global-wheat-detection/yolov5/Test_wrong/img645.jpg: 512x640 Done. (0.033s)\n",
            "image 46/63 /content/drive/My Drive/Capstone project/global-wheat-detection/yolov5/Test_wrong/img646.jpg: 640x512 1 wheats, Done. (0.033s)\n",
            "image 47/63 /content/drive/My Drive/Capstone project/global-wheat-detection/yolov5/Test_wrong/img647.jpg: 512x640 Done. (0.033s)\n",
            "image 48/63 /content/drive/My Drive/Capstone project/global-wheat-detection/yolov5/Test_wrong/img648.jpg: 512x640 Done. (0.031s)\n",
            "image 49/63 /content/drive/My Drive/Capstone project/global-wheat-detection/yolov5/Test_wrong/img649.jpg: 512x640 Done. (0.031s)\n",
            "image 50/63 /content/drive/My Drive/Capstone project/global-wheat-detection/yolov5/Test_wrong/img650.jpg: 640x512 2 wheats, Done. (0.034s)\n",
            "image 51/63 /content/drive/My Drive/Capstone project/global-wheat-detection/yolov5/Test_wrong/img651.jpg: 640x512 2 wheats, Done. (0.032s)\n",
            "image 52/63 /content/drive/My Drive/Capstone project/global-wheat-detection/yolov5/Test_wrong/img652.jpg: 640x512 3 wheats, Done. (0.032s)\n",
            "image 53/63 /content/drive/My Drive/Capstone project/global-wheat-detection/yolov5/Test_wrong/img653.jpg: 512x640 Done. (0.032s)\n",
            "image 54/63 /content/drive/My Drive/Capstone project/global-wheat-detection/yolov5/Test_wrong/img654.jpg: 512x640 1 wheats, Done. (0.033s)\n",
            "image 55/63 /content/drive/My Drive/Capstone project/global-wheat-detection/yolov5/Test_wrong/img655.jpg: 512x640 2 wheats, Done. (0.033s)\n",
            "image 56/63 /content/drive/My Drive/Capstone project/global-wheat-detection/yolov5/Test_wrong/img656.jpg: 512x640 Done. (0.031s)\n",
            "image 57/63 /content/drive/My Drive/Capstone project/global-wheat-detection/yolov5/Test_wrong/img657.jpg: 512x640 2 wheats, Done. (0.033s)\n",
            "image 58/63 /content/drive/My Drive/Capstone project/global-wheat-detection/yolov5/Test_wrong/img658.jpg: 512x640 2 wheats, Done. (0.033s)\n",
            "image 59/63 /content/drive/My Drive/Capstone project/global-wheat-detection/yolov5/Test_wrong/img660.jpg: 512x640 Done. (0.031s)\n",
            "image 60/63 /content/drive/My Drive/Capstone project/global-wheat-detection/yolov5/Test_wrong/img661.jpg: 512x640 Done. (0.031s)\n",
            "image 61/63 /content/drive/My Drive/Capstone project/global-wheat-detection/yolov5/Test_wrong/img662.jpg: 512x640 Done. (0.031s)\n",
            "image 62/63 /content/drive/My Drive/Capstone project/global-wheat-detection/yolov5/Test_wrong/img663.jpg: 512x640 1 wheats, Done. (0.033s)\n",
            "image 63/63 /content/drive/My Drive/Capstone project/global-wheat-detection/yolov5/Test_wrong/img664.jpg: 512x640 Done. (0.031s)\n",
            "Results saved to inference/output\n",
            "Done. (27.414s)\n"
          ],
          "name": "stdout"
        }
      ]
    },
    {
      "cell_type": "code",
      "metadata": {
        "id": "ExlxsAADTygV",
        "outputId": "989aa9a1-8f9b-4004-8afa-fed9fba7f704",
        "colab": {
          "base_uri": "https://localhost:8080/",
          "height": 326
        }
      },
      "source": [
        "!python detect.py --source test --weights best.pt"
      ],
      "execution_count": null,
      "outputs": [
        {
          "output_type": "stream",
          "text": [
            "Namespace(agnostic_nms=False, augment=False, classes=None, conf_thres=0.4, device='', img_size=640, iou_thres=0.5, output='inference/output', save_txt=False, source='test', update=False, view_img=False, weights=['best.pt'])\n",
            "Using CUDA device0 _CudaDeviceProperties(name='Tesla K80', total_memory=11441MB)\n",
            "\n",
            "Fusing layers... \n",
            "Model Summary: 140 layers, 7.24652e+06 parameters, 6.61683e+06 gradients\n",
            "image 1/10 /content/drive/My Drive/Capstone project/global-wheat-detection/yolov5/test/2fd875eaa.jpg: 640x640 29 wheats, Done. (0.038s)\n",
            "image 2/10 /content/drive/My Drive/Capstone project/global-wheat-detection/yolov5/test/348a992bb.jpg: 640x640 37 wheats, Done. (0.037s)\n",
            "image 3/10 /content/drive/My Drive/Capstone project/global-wheat-detection/yolov5/test/51b3e36ab.jpg: 640x640 26 wheats, Done. (0.037s)\n",
            "image 4/10 /content/drive/My Drive/Capstone project/global-wheat-detection/yolov5/test/51f1be19e.jpg: 640x640 20 wheats, Done. (0.037s)\n",
            "image 5/10 /content/drive/My Drive/Capstone project/global-wheat-detection/yolov5/test/53f253011.jpg: 640x640 32 wheats, Done. (0.037s)\n",
            "image 6/10 /content/drive/My Drive/Capstone project/global-wheat-detection/yolov5/test/796707dd7.jpg: 640x640 23 wheats, Done. (0.037s)\n",
            "image 7/10 /content/drive/My Drive/Capstone project/global-wheat-detection/yolov5/test/aac893a91.jpg: 640x640 22 wheats, Done. (0.038s)\n",
            "image 8/10 /content/drive/My Drive/Capstone project/global-wheat-detection/yolov5/test/cb8d261a3.jpg: 640x640 26 wheats, Done. (0.037s)\n",
            "image 9/10 /content/drive/My Drive/Capstone project/global-wheat-detection/yolov5/test/cc3532ff6.jpg: 640x640 27 wheats, Done. (0.037s)\n",
            "image 10/10 /content/drive/My Drive/Capstone project/global-wheat-detection/yolov5/test/f5a1f0358.jpg: 640x640 28 wheats, Done. (0.037s)\n",
            "Results saved to inference/output\n",
            "Done. (5.809s)\n"
          ],
          "name": "stdout"
        }
      ]
    },
    {
      "cell_type": "code",
      "metadata": {
        "id": "VtICRui-WbcQ"
      },
      "source": [
        ""
      ],
      "execution_count": null,
      "outputs": []
    }
  ]
}